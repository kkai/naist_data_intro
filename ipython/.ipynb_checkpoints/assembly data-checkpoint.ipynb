{
 "metadata": {
  "name": "",
  "signature": "sha256:c066b117e7027e0d6c47da9cfc4d2fef8c362901aceb99dce88dab8acdbc737c"
 },
 "nbformat": 3,
 "nbformat_minor": 0,
 "worksheets": [
  {
   "cells": [
    {
     "cell_type": "markdown",
     "metadata": {},
     "source": [
      "#Motion Data\n",
      "The assembly.dat file contains a recording done from a assembly session.\n",
      "\n",
      "A person was doing the following activities: \n",
      "\n",
      "* hammering in nails (label 1)\n",
      "* screwdring (label 2)\n",
      "* sandpapering (label 3)\n",
      "* sawing (label 4)\n",
      "\n",
      "Label 0 is for doing none of the activities above. The sensor is attached to the subjects right wrist (x axis pointing towards the fingers). \n",
      "The sensor was sampled with 100 Hz, it's raw sensor data (not calibrated). The data structure of the file is shown in the header of the file."
     ]
    },
    {
     "cell_type": "markdown",
     "metadata": {},
     "source": [
      "##Import the data\n",
      "The file uses tabs as separators and we need to skip 11 rows (the description of the content). \n",
      "Also we need to give the desciription for each column in the names variable."
     ]
    },
    {
     "cell_type": "code",
     "collapsed": false,
     "input": [
      "from pandas import read_csv\n",
      "from mpltools import style\n",
      "from mpltools import layout\n",
      "\n",
      "style.use('ggplot')\n",
      "data = read_csv('./data/input/assembly.dat',delimiter='\\t',skiprows=11,names=['s','usec','ax','ay','az','gx','gy','gz','mx','my','mz','label'])"
     ],
     "language": "python",
     "metadata": {},
     "outputs": [],
     "prompt_number": 1
    },
    {
     "cell_type": "code",
     "collapsed": false,
     "input": [
      "#to get an overview of the data you can use describe in pandas\n",
      "data[['ax','ay','az']].describe()"
     ],
     "language": "python",
     "metadata": {},
     "outputs": [],
     "prompt_number": 12
    },
    {
     "cell_type": "code",
     "collapsed": false,
     "input": [
      "data[['gx','gy','gz']].plot()"
     ],
     "language": "python",
     "metadata": {},
     "outputs": [],
     "prompt_number": 12
    },
    {
     "cell_type": "code",
     "collapsed": false,
     "input": [
      "data[['ax','ay','az']].plot()"
     ],
     "language": "python",
     "metadata": {},
     "outputs": [],
     "prompt_number": 12
    },
    {
     "cell_type": "markdown",
     "metadata": {},
     "source": [
      "#Feature Caluclation and Selection\n",
      "In the next step we will take the gyro data and calculate some features on the them."
     ]
    },
    {
     "cell_type": "code",
     "collapsed": false,
     "input": [
      "gyro_hammer = data[data['label']==1][['gx','gy','gz']]\n",
      "gyro_screw = data[data['label']==2][['gx','gy','gz']]\n",
      "gyro_sand = data[data['label']==3][['gx','gy','gz']]\n",
      "gyro_saw = data[data['label']==4][['gx','gy','gz']]"
     ],
     "language": "python",
     "metadata": {},
     "outputs": [],
     "prompt_number": 12
    },
    {
     "cell_type": "code",
     "collapsed": false,
     "input": [
      "gyro_hammer.plot()\n",
      "gyro_screw.plot()\n",
      "gyro_sand.plot()\n",
      "gyro_saw.plot()"
     ],
     "language": "python",
     "metadata": {},
     "outputs": [],
     "prompt_number": 12
    },
    {
     "cell_type": "code",
     "collapsed": false,
     "input": [
      "from pandas.stats.moments import rolling_apply\n",
      "print size(gyro_screw)/20.0\n",
      "\n",
      "method = median\n",
      "wsize = 25\n",
      "\n",
      "feat1 = rolling_apply(gyro_screw, wsize, method).dropna()\n",
      "feat2 = rolling_apply(gyro_hammer,wsize, method).dropna()\n",
      "feat3 = rolling_apply(gyro_sand, wsize, method).dropna()\n",
      "feat4 = rolling_apply(gyro_saw, wsize, method).dropna()\n",
      "\n",
      "\n"
     ],
     "language": "python",
     "metadata": {},
     "outputs": [
      {
       "output_type": "stream",
       "stream": "stdout",
       "text": [
        "291.0\n"
       ]
      }
     ],
     "prompt_number": 7
    },
    {
     "cell_type": "code",
     "collapsed": false,
     "input": [
      "scatter(feat1['gz'], feat1['gy'])\n",
      "scatter(feat2['gz'], feat2['gy'],color='red')\n",
      "scatter(feat3['gz'], feat3['gy'],color='green')\n",
      "scatter(feat4['gz'], feat4['gy'],color='yellow')"
     ],
     "language": "python",
     "metadata": {},
     "outputs": [],
     "prompt_number": 12
    },
    {
     "cell_type": "markdown",
     "metadata": {},
     "source": [
      "#Classification\n",
      "In the following we will try how good our features are to automatically classify the different activities."
     ]
    },
    {
     "cell_type": "code",
     "collapsed": false,
     "input": [
      "#don't look here ... I split the data in test and training set\n",
      "#bad code :)\n",
      "\n",
      "l_1 = len(feat1)\n",
      "l_2 = len(feat2)\n",
      "l_3 = len(feat3)\n",
      "l_4 = len(feat4)\n",
      "\n",
      "#X = feat1.append(feat2).append(feat3).append(feat4)\n",
      "#Y = [1.0] * l_1 + [2.0]* l_2 + [3] * l_3 + [4] * l_4\n",
      "\n",
      "X = feat1[0:l_1/2].append(feat2[0:l_2/2]).append(feat3[0:l_3/2]).append(feat4[0:l_4/2])\n",
      "Y = [1]*(l_1/2) + [2]*(l_2/2)+[3]*(l_3/2) + [4]*(l_4/2)\n",
      "\n",
      "T = feat1[l_1/2:l_1].append(feat2[l_2/2:l_2]).append(feat3[l_3/2:l_3]).append(feat4[l_4/2:l_4])\n",
      "t_gg = [1]*len(feat1[l_1/2:l_1]) + [2]*len(feat2[l_2/2:l_2]) + [3]*len(feat3[l_3/2:l_3]) + [4]*len(feat1[l_4/2:l_4])"
     ],
     "language": "python",
     "metadata": {},
     "outputs": [],
     "prompt_number": 9
    },
    {
     "cell_type": "code",
     "collapsed": false,
     "input": [
      "from sklearn.neighbors import KNeighborsClassifier\n",
      "from sklearn.tree import DecisionTreeClassifier\n",
      "\n",
      "neigh = KNeighborsClassifier(n_neighbors=3)\n",
      "dt = DecisionTreeClassifier()\n",
      "\n",
      "dt.fit(X,Y)\n",
      "res = dt.predict(T)\n",
      "plot(res+0.2, 'r.')\n",
      "plot(t_gg, 'b.')\n",
      "\n",
      "\n",
      "print dt.score(T, t_gg)\n"
     ],
     "language": "python",
     "metadata": {},
     "outputs": [],
     "prompt_number": 12
    },
    {
     "cell_type": "code",
     "collapsed": false,
     "input": [
      "from sklearn.utils import shuffle\n",
      "from sklearn.cross_validation import StratifiedKFold, cross_val_score\n",
      "\n",
      "Xn, yn = shuffle(T, t_gg)\n",
      "skf = StratifiedKFold(yn, 10)\n",
      "print cross_val_score(dt, Xn, yn, cv=skf)"
     ],
     "language": "python",
     "metadata": {},
     "outputs": [
      {
       "output_type": "stream",
       "stream": "stdout",
       "text": [
        "[ 0.97058824  0.97385621  0.96721311  0.99013158  0.98026316  0.96710526\n",
        "  0.97697368  0.98684211  0.98013245  0.96688742]\n"
       ]
      }
     ],
     "prompt_number": 11
    },
    {
     "cell_type": "code",
     "collapsed": false,
     "input": [
      "from StringIO import StringIO\n",
      "from sklearn import tree\n",
      "f =tree.export_graphviz(dt, out_file='tree.dot')\n",
      "f.close()"
     ],
     "language": "python",
     "metadata": {},
     "outputs": [
      {
       "ename": "AttributeError",
       "evalue": "'NoneType' object has no attribute 'close'",
       "output_type": "pyerr",
       "traceback": [
        "\u001b[0;31m---------------------------------------------------------------------------\u001b[0m\n\u001b[0;31mAttributeError\u001b[0m                            Traceback (most recent call last)",
        "\u001b[0;32m<ipython-input-12-2963299e9172>\u001b[0m in \u001b[0;36m<module>\u001b[0;34m()\u001b[0m\n\u001b[1;32m      2\u001b[0m \u001b[0;32mfrom\u001b[0m \u001b[0msklearn\u001b[0m \u001b[0;32mimport\u001b[0m \u001b[0mtree\u001b[0m\u001b[0;34m\u001b[0m\u001b[0m\n\u001b[1;32m      3\u001b[0m \u001b[0mf\u001b[0m \u001b[0;34m=\u001b[0m\u001b[0mtree\u001b[0m\u001b[0;34m.\u001b[0m\u001b[0mexport_graphviz\u001b[0m\u001b[0;34m(\u001b[0m\u001b[0mdt\u001b[0m\u001b[0;34m,\u001b[0m \u001b[0mout_file\u001b[0m\u001b[0;34m=\u001b[0m\u001b[0;34m'tree.dot'\u001b[0m\u001b[0;34m)\u001b[0m\u001b[0;34m\u001b[0m\u001b[0m\n\u001b[0;32m----> 4\u001b[0;31m \u001b[0mf\u001b[0m\u001b[0;34m.\u001b[0m\u001b[0mclose\u001b[0m\u001b[0;34m(\u001b[0m\u001b[0;34m)\u001b[0m\u001b[0;34m\u001b[0m\u001b[0m\n\u001b[0m",
        "\u001b[0;31mAttributeError\u001b[0m: 'NoneType' object has no attribute 'close'"
       ]
      }
     ],
     "prompt_number": 12
    },
    {
     "cell_type": "code",
     "collapsed": false,
     "input": [],
     "language": "python",
     "metadata": {},
     "outputs": []
    }
   ],
   "metadata": {}
  }
 ]
}