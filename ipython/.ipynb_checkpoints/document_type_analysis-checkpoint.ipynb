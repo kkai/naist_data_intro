{
 "metadata": {
  "name": "",
  "signature": "sha256:4a4f0f98b2158bec0cb367287382fc30f4692e61b9c2e2c1857d75ab44f8f8b9"
 },
 "nbformat": 3,
 "nbformat_minor": 0,
 "worksheets": [
  {
   "cells": [
    {
     "cell_type": "markdown",
     "metadata": {},
     "source": [
      "#Exploring Eye gaze data#\n",
      "First setup the variables raw, working and output folder\n",
      "as well as import the eyegaze file for reading and filtering eyegaze data."
     ]
    },
    {
     "cell_type": "code",
     "collapsed": false,
     "input": [
      "import eyegaze as eg\n",
      "reload(eg)\n",
      "\n",
      "raw_folder = './data/input/'\n",
      "work_folder = './data/work/'\n",
      "out_folder = './output/'\n",
      "\n",
      "manga_fname = raw_folder +'manga.txt'\n",
      "novel_fname = raw_folder +'novel.txt'\n",
      "textb_fname = raw_folder +'textbook.txt'\n"
     ],
     "language": "python",
     "metadata": {},
     "outputs": [],
     "prompt_number": 1
    },
    {
     "cell_type": "markdown",
     "metadata": {},
     "source": [
      "*  Read in 3 files: a person reading manga, Japanese novel and a textbook for around 10 minutes. \n",
      "*  Save the results in a cvs file in the working directory"
     ]
    },
    {
     "cell_type": "code",
     "collapsed": false,
     "input": [
      "m_time, m_x, m_y = eg.read_raw(manga_fname)\n",
      "n_time, n_x, n_y = eg.read_raw(novel_fname)\n",
      "t_time, t_x, t_y = eg.read_raw(textb_fname)\n",
      "\n",
      "eg.save_raw(work_folder+'manga_raw.csv',m_time, m_x, m_y)\n",
      "eg.save_raw(work_folder+'novel_raw.csv',n_time, n_x, n_y)\n",
      "eg.save_raw(work_folder+'textb_raw.csv',t_time, t_x, t_y)"
     ],
     "language": "python",
     "metadata": {},
     "outputs": [],
     "prompt_number": 2
    },
    {
     "cell_type": "code",
     "collapsed": false,
     "input": [
      "plot(m_x[450:650], m_y[450:650],'-o')\n",
      "title('manga')\n",
      "xlabel('x')\n",
      "ylabel('y')\n",
      "\n",
      "figure()\n",
      "plot(n_x[450:650], n_y[450:650],'-o')\n",
      "title('novel')\n",
      "xlabel('x')\n",
      "ylabel('y')\n",
      "\n",
      "figure()\n",
      "plot(t_x[450:650], t_y[450:650],'-o')\n",
      "title('textbook')\n",
      "xlabel('x')\n",
      "ylabel('y')"
     ],
     "language": "python",
     "metadata": {},
     "outputs": [],
     "prompt_number": 0
    },
    {
     "cell_type": "markdown",
     "metadata": {},
     "source": [
      "##Filtering##\n"
     ]
    },
    {
     "cell_type": "code",
     "collapsed": false,
     "input": [
      "mf_time,mf_d, mf_x, mf_y = eg.filter_fixations(m_time,m_x,m_y)\n",
      "nf_time,nf_d, nf_x, nf_y = eg.filter_fixations(n_time,n_x,n_y)\n",
      "tf_time,tf_d, tf_x, tf_y = eg.filter_fixations(t_time,t_x,t_y)\n",
      "\n",
      "plot(mf_x[450:650], mf_y[450:650],'-o')\n",
      "figure()\n",
      "plot(nf_x[450:650], nf_y[450:650],'-o')\n",
      "figure()\n",
      "plot(tf_x[450:650], tf_y[450:650],'-o')\n"
     ],
     "language": "python",
     "metadata": {},
     "outputs": [],
     "prompt_number": 0
    },
    {
     "cell_type": "markdown",
     "metadata": {},
     "source": [
      "adding the fixation duration to the plot."
     ]
    },
    {
     "cell_type": "code",
     "collapsed": false,
     "input": [
      "reload(eg)\n",
      "eg.pplot(mf_x[450:650], mf_y[450:650],mf_d[450:650])\n",
      "title('manga')\n",
      "xlabel(\"x\")\n",
      "ylabel(\"y\")\n",
      "\n",
      "eg.pplot(nf_x[450:650], nf_y[450:650],nf_d[450:650])\n",
      "title('novel')\n",
      "xlabel(\"x\")\n",
      "ylabel(\"y\")\n",
      "\n",
      "eg.pplot(tf_x[450:650], tf_y[450:650],tf_d[450:650])\n",
      "title('textbook')\n",
      "xlabel(\"x\")\n",
      "ylabel(\"y\")\n",
      "\n"
     ],
     "language": "python",
     "metadata": {},
     "outputs": [],
     "prompt_number": 0
    },
    {
     "cell_type": "markdown",
     "metadata": {},
     "source": [
      "##Feature Calulation##\n"
     ]
    },
    {
     "cell_type": "code",
     "collapsed": false,
     "input": [
      "reload(eg)\n",
      "ms1,ms2,ms3,ms4=eg.get_saccade_directions(mf_d,mf_x,mf_y)\n",
      "ns1,ns2,ns3,ns4=eg.get_saccade_directions(nf_d,nf_x,nf_y)\n",
      "ts1,ts2,ts3,ts4=eg.get_saccade_directions(tf_d,tf_x,tf_y)"
     ],
     "language": "python",
     "metadata": {},
     "outputs": [],
     "prompt_number": 6
    },
    {
     "cell_type": "code",
     "collapsed": false,
     "input": [
      "plot(ms1,ms2,'v')\n",
      "plot(ns1,ns2,'o')\n",
      "plot(ts1,ts2,'*')\n",
      "title('feature plot')\n",
      "xlabel(\"saccade right\")\n",
      "ylabel(\"saccade down\")"
     ],
     "language": "python",
     "metadata": {},
     "outputs": [],
     "prompt_number": 0
    },
    {
     "cell_type": "code",
     "collapsed": false,
     "input": [
      "reload(eg)\n",
      "eg.pplot(mf_x[450:650], mf_y[450:650],mf_d[450:650])\n",
      "#title('manga')\n",
      "xlabel(\"x\")\n",
      "ylabel(\"y\")\n",
      "\n",
      "eg.pplot(nf_x[450:650], nf_y[450:650],nf_d[450:650])\n",
      "#title('novel')\n",
      "xlabel(\"x\")\n",
      "ylabel(\"y\")\n",
      "\n",
      "eg.pplot(tf_x[450:650], tf_y[450:650],tf_d[450:650])\n",
      "title('textbook')\n",
      "xlabel(\"x\")\n",
      "ylabel(\"y\")"
     ],
     "language": "python",
     "metadata": {},
     "outputs": [],
     "prompt_number": 0
    },
    {
     "cell_type": "code",
     "collapsed": false,
     "input": [],
     "language": "python",
     "metadata": {},
     "outputs": []
    }
   ],
   "metadata": {}
  }
 ]
}