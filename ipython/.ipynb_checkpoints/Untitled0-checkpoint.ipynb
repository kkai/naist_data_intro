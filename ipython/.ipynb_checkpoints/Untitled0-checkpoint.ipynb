{
 "metadata": {
  "name": "",
  "signature": "sha256:b37d87ee747a4e1ff0b10fbdc0b0a47ff3c2584bc6c36d891a2bad16ec5cca73"
 },
 "nbformat": 3,
 "nbformat_minor": 0,
 "worksheets": []
}